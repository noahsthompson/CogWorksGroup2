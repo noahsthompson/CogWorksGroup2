{
 "cells": [
  {
   "cell_type": "code",
   "execution_count": 1,
   "metadata": {},
   "outputs": [],
   "source": [
    "from EntityDatabase import entityDatabase"
   ]
  },
  {
   "cell_type": "code",
   "execution_count": 2,
   "metadata": {},
   "outputs": [],
   "source": [
    "eb=entityDatabase()"
   ]
  },
  {
   "cell_type": "code",
   "execution_count": 3,
   "metadata": {},
   "outputs": [
    {
     "name": "stdout",
     "output_type": "stream",
     "text": [
      "[('united', 'states'), ('donald', 'trump')]\n"
     ]
    }
   ],
   "source": [
    "eb.add(\"Donald Trump is not a very good president of the United States\",\"d1\")\n",
    "print(eb.getEntities(\"Donald Trump is not a very good president of the United States\"))\n"
   ]
  },
  {
   "cell_type": "code",
   "execution_count": 4,
   "metadata": {},
   "outputs": [],
   "source": [
    "eb.add(\"Bergie Banders is a very good president of the Chad Republic\",\"d2\")\n",
    "eb.add(\"Bergie Banders is a very good president of the Blad\",\"d3\")\n",
    "eb.add(\"Bergie Banders is a very good the Blad\",\"d4\")\n",
    "eb.add(\"Bergie Banders is a very good the United States\",\"d5\")\n",
    "eb.add(\"Donald Glover is a very good the United States\",\"d6\")"
   ]
  },
  {
   "cell_type": "code",
   "execution_count": 8,
   "metadata": {},
   "outputs": [
    {
     "name": "stdout",
     "output_type": "stream",
     "text": [
      "('bergie', 'banders')\n",
      "([('blad',), ('chad', 'republic'), ('united', 'states')], True)\n",
      "('donald',)\n",
      "([('donald', 'trump'), ('donald', 'glover')], False)\n"
     ]
    }
   ],
   "source": [
    "print(eb.associateEntity((\"bergie\",\"banders\")))\n",
    "print(eb.associateEntity((\"Donald\")))"
   ]
  },
  {
   "cell_type": "code",
   "execution_count": null,
   "metadata": {},
   "outputs": [],
   "source": []
  },
  {
   "cell_type": "code",
   "execution_count": null,
   "metadata": {},
   "outputs": [],
   "source": []
  },
  {
   "cell_type": "code",
   "execution_count": null,
   "metadata": {},
   "outputs": [],
   "source": []
  },
  {
   "cell_type": "code",
   "execution_count": null,
   "metadata": {
    "collapsed": true
   },
   "outputs": [],
   "source": []
  }
 ],
 "metadata": {
  "kernelspec": {
   "display_name": "Python 3",
   "language": "python",
   "name": "python3"
  },
  "language_info": {
   "codemirror_mode": {
    "name": "ipython",
    "version": 3
   },
   "file_extension": ".py",
   "mimetype": "text/x-python",
   "name": "python",
   "nbconvert_exporter": "python",
   "pygments_lexer": "ipython3",
   "version": "3.6.1"
  }
 },
 "nbformat": 4,
 "nbformat_minor": 2
}
