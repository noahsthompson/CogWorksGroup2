{
 "cells": [
  {
   "cell_type": "code",
   "execution_count": 1,
   "metadata": {
    "collapsed": true
   },
   "outputs": [],
   "source": [
    "from mySearchEngine import MySearchEngine\n",
    "from EntityDatabase import entityDatabase\n",
    "import newsScraper"
   ]
  },
  {
   "cell_type": "code",
   "execution_count": 13,
   "metadata": {
    "collapsed": true
   },
   "outputs": [],
   "source": [
    "eb=entityDatabase()\n",
    "se=MySearchEngine()"
   ]
  },
  {
   "cell_type": "code",
   "execution_count": 8,
   "metadata": {
    "collapsed": true
   },
   "outputs": [],
   "source": [
    "newss=newsScraper.formatNews()\n"
   ]
  },
  {
   "cell_type": "code",
   "execution_count": 16,
   "metadata": {},
   "outputs": [],
   "source": [
    "def primeNews(eb,se):\n",
    "    for news in newss:\n",
    "        try:\n",
    "            eb.add(news)\n",
    "            se.add(news)\n",
    "        except(Exception):\n",
    "            pass\n",
    "\n"
   ]
  },
  {
   "cell_type": "code",
   "execution_count": 17,
   "metadata": {},
   "outputs": [],
   "source": [
    "primeNews(eb,se)"
   ]
  },
  {
   "cell_type": "code",
   "execution_count": 18,
   "metadata": {},
   "outputs": [
    {
     "name": "stdout",
     "output_type": "stream",
     "text": [
      "('donald', 'trump')\n",
      "([('us',), ('u.s.',), ('jamaica',), ('chinese',), ('germany',)], True)\n"
     ]
    }
   ],
   "source": [
    "print(eb.associateEntity(\"Donald Trump\",5))"
   ]
  },
  {
   "cell_type": "code",
   "execution_count": 19,
   "metadata": {},
   "outputs": [
    {
     "name": "stdout",
     "output_type": "stream",
     "text": [
      "A Central Intelligence Agency ( CIA ) project called “ Imperial ” included three hacking tools for infiltrating the Mac and Linux operating systems , according to the latest “ Vault 7 ” leaks\n",
      "None\n"
     ]
    }
   ],
   "source": [
    "print(print(se.whatIsNew(\"CIA\")))"
   ]
  },
  {
   "cell_type": "code",
   "execution_count": 20,
   "metadata": {},
   "outputs": [
    {
     "name": "stdout",
     "output_type": "stream",
     "text": [
      "(('north', 'korea'), ('north',), ('kpa',))\n"
     ]
    }
   ],
   "source": [
    "print(eb.associateTopic(\"missile\",se,out=3))"
   ]
  },
  {
   "cell_type": "code",
   "execution_count": null,
   "metadata": {
    "collapsed": true
   },
   "outputs": [],
   "source": []
  }
 ],
 "metadata": {
  "kernelspec": {
   "display_name": "Python 3",
   "language": "python",
   "name": "python3"
  },
  "language_info": {
   "codemirror_mode": {
    "name": "ipython",
    "version": 3
   },
   "file_extension": ".py",
   "mimetype": "text/x-python",
   "name": "python",
   "nbconvert_exporter": "python",
   "pygments_lexer": "ipython3",
   "version": "3.6.1"
  }
 },
 "nbformat": 4,
 "nbformat_minor": 2
}
