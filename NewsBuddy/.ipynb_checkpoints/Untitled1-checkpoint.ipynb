{
 "cells": [
  {
   "cell_type": "code",
   "execution_count": null,
   "metadata": {},
   "outputs": [],
   "source": [
    "from mySearchEngine import MySearchEngine\n",
    "from EntityDatabase import entityDatabase\n",
    "import newsScraper"
   ]
  },
  {
   "cell_type": "code",
   "execution_count": null,
   "metadata": {
    "collapsed": true
   },
   "outputs": [],
   "source": [
    "eb=entityDatabase()\n",
    "se=MySearchEngine()"
   ]
  },
  {
   "cell_type": "code",
   "execution_count": null,
   "metadata": {},
   "outputs": [],
   "source": [
    "# eb.add(\"Donald Trump is not a very good president of the United States.\",\"d1\")\n",
    "# se.add(\"Donald Trump is not a very good president of the United States\",\"d1\")\n",
    "\n"
   ]
  },
  {
   "cell_type": "code",
   "execution_count": null,
   "metadata": {},
   "outputs": [],
   "source": [
    "# eb.add(\"Bergie Banders is a very good president of the Chad Republic.\",\"d2\")\n",
    "# eb.add(\"Bergie Banders is a very good president of the Blad.\",\"d3\")\n",
    "# eb.add(\"Bergie Banders is a very good the Blad.\",\"d4\")\n",
    "# eb.add(\"Bergie Banders is a very good the United States.\",\"d5\")\n",
    "# eb.add(\"Donald Glover is a very good the United States.\",\"d6\")\n",
    "# se.add(\"Bergie Banders is a very good president of the Chad Republic.\",\"d2\")\n",
    "# se.add(\"Bergie Banders is a very good president of the Blad.\",\"d3\")\n",
    "# se.add(\"Bergie Banders is a very good the Blad.\",\"d4\")\n",
    "# se.add(\"Bergie Banders is a very good the United States.\",\"d5\")\n",
    "# se.add(\"Donald Glover is a very good the United States.\",\"d6\")"
   ]
  },
  {
   "cell_type": "code",
   "execution_count": null,
   "metadata": {},
   "outputs": [],
   "source": [
    "# print(eb.associateEntity((\"bergie\",\"banders\")))\n",
    "# print(eb.associateEntity((\"Donald\")))"
   ]
  },
  {
   "cell_type": "code",
   "execution_count": null,
   "metadata": {},
   "outputs": [],
   "source": [
    "# print(se.query(\"Chad\"))\n",
    "# print(se.whatIsNew(\"Blad\"))"
   ]
  },
  {
   "cell_type": "code",
   "execution_count": null,
   "metadata": {},
   "outputs": [],
   "source": [
    "# eb.associateTopic(\"not\",se,out=3)"
   ]
  },
  {
   "cell_type": "code",
   "execution_count": null,
   "metadata": {},
   "outputs": [],
   "source": [
    "newss=newsScraper.formatNews()\n",
    "for news in newss:\n",
    "    eb.add(news)\n",
    "    es.add(ne)"
   ]
  },
  {
   "cell_type": "code",
   "execution_count": null,
   "metadata": {
    "collapsed": true
   },
   "outputs": [],
   "source": []
  }
 ],
 "metadata": {
  "kernelspec": {
   "display_name": "Python 3",
   "language": "python",
   "name": "python3"
  },
  "language_info": {
   "codemirror_mode": {
    "name": "ipython",
    "version": 3
   },
   "file_extension": ".py",
   "mimetype": "text/x-python",
   "name": "python",
   "nbconvert_exporter": "python",
   "pygments_lexer": "ipython3",
   "version": "3.6.1"
  }
 },
 "nbformat": 4,
 "nbformat_minor": 2
}
