{
 "cells": [
  {
   "cell_type": "code",
   "execution_count": 1,
   "metadata": {
    "collapsed": false
   },
   "outputs": [
    {
     "name": "stdout",
     "output_type": "stream",
     "text": [
      "Downloading \n",
      "\tfrom http://dlib.net/files/dlib_face_recognition_resnet_model_v1.dat.bz2\n",
      "\tto: /Users/Daniel/Desktop/AnacondaProjects/DlibModels/dlib_models\n",
      "Downloaded and decompressed: /Users/Daniel/Desktop/AnacondaProjects/DlibModels/dlib_models/dlib_face_recognition_resnet_model_v1.dat\n",
      "Downloading \n",
      "\tfrom http://dlib.net/files/shape_predictor_68_face_landmarks.dat.bz2\n",
      "\tto: /Users/Daniel/Desktop/AnacondaProjects/DlibModels/dlib_models\n",
      "Downloaded and decompressed: /Users/Daniel/Desktop/AnacondaProjects/DlibModels/dlib_models/shape_predictor_68_face_landmarks.dat\n"
     ]
    }
   ],
   "source": [
    "from dlib_models import download_model, download_predictor\n",
    "download_model()\n",
    "download_predictor()"
   ]
  },
  {
   "cell_type": "code",
   "execution_count": 5,
   "metadata": {
    "collapsed": false
   },
   "outputs": [],
   "source": [
    "from dlib_models import load_dlib_models\n",
    "\n",
    "# this loads the dlib models into memory. You should only import the models *after* loading them.\n",
    "# This does lazy-loading: it doesn't do anything if the models are already loaded.\n",
    "load_dlib_models()\n",
    "\n",
    "from dlib_models import models\n",
    "\n",
    "face_detect = models[\"face detect\"]\n",
    "face_rec_model = models[\"face rec\"]\n",
    "shape_predictor = models[\"shape predict\"]"
   ]
  },
  {
   "cell_type": "code",
   "execution_count": null,
   "metadata": {
    "collapsed": true
   },
   "outputs": [],
   "source": []
  }
 ],
 "metadata": {
  "kernelspec": {
   "display_name": "Python 3",
   "language": "python",
   "name": "python3"
  },
  "language_info": {
   "codemirror_mode": {
    "name": "ipython",
    "version": 3
   },
   "file_extension": ".py",
   "mimetype": "text/x-python",
   "name": "python",
   "nbconvert_exporter": "python",
   "pygments_lexer": "ipython3",
   "version": "3.6.0"
  }
 },
 "nbformat": 4,
 "nbformat_minor": 2
}
